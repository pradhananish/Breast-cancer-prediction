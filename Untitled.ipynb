{
 "cells": [
  {
   "cell_type": "code",
   "execution_count": 2,
   "id": "5035e5b8",
   "metadata": {},
   "outputs": [
    {
     "name": "stdout",
     "output_type": "stream",
     "text": [
      "['.ipynb_checkpoints', 'data.csv', 'Untitled.ipynb']\n"
     ]
    }
   ],
   "source": [
    "import pandas as pd\n",
    "import numpy as np\n",
    "import matplotlib.pyplot as plt\n",
    "\n",
    "import os\n",
    "print(os.listdir(r\"C:\\Users\\ASUS\\Desktop\\ml\\supervised ml\\breast cancer prediction\"))"
   ]
  },
  {
   "cell_type": "code",
   "execution_count": 9,
   "id": "6be942b1",
   "metadata": {
    "scrolled": true
   },
   "outputs": [],
   "source": [
    "data =pd.read_csv(r\"C:\\Users\\ASUS\\Desktop\\ml\\supervised ml\\breast cancer prediction\\data.csv\")\n",
    "data.drop(['Unnamed: 32', \"id\"], axis=1, inplace=True)\n",
    "\n",
    "data.diagnosis=[1 if each == \"M\" else 0 for each in data.diagnosis]\n",
    "y=data.diagnosis.values\n",
    "X_data=data.drop(['diagnosis'], axis=1)"
   ]
  },
  {
   "cell_type": "code",
   "execution_count": 13,
   "id": "06fa01ed",
   "metadata": {},
   "outputs": [],
   "source": [
    "#using the normalization\n",
    "X = (X_data - np.min(X_data)) / (np.max(X_data) - np.min(X_data))\n"
   ]
  },
  {
   "cell_type": "code",
   "execution_count": 19,
   "id": "c5e02238",
   "metadata": {},
   "outputs": [
    {
     "name": "stdout",
     "output_type": "stream",
     "text": [
      "X train: (30, 483)\n",
      "X test: (30, 86)\n",
      "y train: (483,)\n",
      "y test: (86,)\n"
     ]
    }
   ],
   "source": [
    "#train test and split the data\n",
    "from sklearn.model_selection import train_test_split\n",
    "\n",
    "X_train, X_test,  y_train, y_test = train_test_split(X, y, test_size=0.15)\n",
    "X_train =X_train.T\n",
    "X_test = X_test.T\n",
    "y_train = y_train.T\n",
    "y_test = y_test.T\n",
    "\n",
    "\n",
    "print(\"X train:\",X_train.shape)\n",
    "print(\"X test:\",X_test.shape)\n",
    "print(\"y train:\",y_train.shape)\n",
    "print(\"y test:\",y_test.shape)\n",
    "\n"
   ]
  },
  {
   "cell_type": "code",
   "execution_count": 20,
   "id": "f85b3ba0",
   "metadata": {},
   "outputs": [],
   "source": [
    "# initiliaze a parameters\n",
    "def initaialize_weights_and_bias(dimesnisons):\n",
    "    w=np.full((dimensions,1),0.01)\n",
    "    b=0.0\n",
    "    return w,b\n"
   ]
  },
  {
   "cell_type": "code",
   "execution_count": 21,
   "id": "b9513a7d",
   "metadata": {},
   "outputs": [],
   "source": [
    "def sigmoid(z):\n",
    "    y_head = 1 /(1+np.exe(-z))\n",
    "    return y_head\n"
   ]
  },
  {
   "cell_type": "code",
   "execution_count": 19,
   "id": "e0cf6abd",
   "metadata": {},
   "outputs": [],
   "source": [
    "#ef forward_backward_propragation(w, b, X_train, y_train):\n",
    "    #forward propragatioon\n",
    "#   z = np.dot(w.T, X_train) + b\n",
    "#         y_head=sigmoid(z)\n",
    "##        loss = -y_rain*np.log(y_head)-(1-y_train)*np.log(1-y_head)\n",
    " #        cost = (np.sum(loss))/X_train.shape[1]\n",
    " #      \n",
    " #      #scaling\n",
    " #      #backward propagation\n",
    " #erivative_weight = (np.dot(x_train,((y_head - y_train).T))) / x_train.shape[1]\n",
    "#erivative_bias = np.sum(y_head - y_train) / X_train.shape[1]\n",
    "#\n",
    "#   gradients = {\"derivative_weight\": derivative_weight,\"derivative_bias\": derivative_bias}\n",
    " #    return cost,gradients"
   ]
  },
  {
   "cell_type": "code",
   "execution_count": 18,
   "id": "4d605b94",
   "metadata": {},
   "outputs": [],
   "source": [
    "def forward_backward_propagation(w,b,x_train,y_train):\n",
    "    # forward propagation\n",
    "    z = np.dot(w.T,x_train) + b\n",
    "    y_head = sigmoid(z)\n",
    "    loss = -y_train*np.log(y_head)-(1-y_train)*np.log(1-y_head)\n",
    "    cost = (np.sum(loss))/x_train.shape[1]      # x_train.shape[1]  is for scaling\n",
    "    # backward propagation\n",
    "    derivative_weight = (np.dot(x_train,((y_head-y_train).T)))/x_train.shape[1] # x_train.shape[1]  is for scaling\n",
    "    derivative_bias = np.sum(y_head-y_train)/x_train.shape[1]                 # x_train.shape[1]  is for scaling\n",
    "    gradients = {\"derivative_weight\": derivative_weight,\"derivative_bias\": derivative_bias}\n",
    "    return cost,gradients"
   ]
  },
  {
   "cell_type": "code",
   "execution_count": 25,
   "id": "4223fc69",
   "metadata": {},
   "outputs": [],
   "source": [
    "#updataing learning paramater\n",
    "def update(w, b, x_train, y_train, learning_rate,number_of_iterarion):\n",
    "    cost_list = []\n",
    "    cost_list2 = []\n",
    "    index = []\n",
    "    # updating(learning) parameters is number_of_iterarion times\n",
    "    for i in range(number_of_iterarion):\n",
    "        # make forward and backward propagation and find cost and gradients\n",
    "        cost,gradients = forward_backward_propagation(w,b,x_train,y_train)\n",
    "        cost_list.append(cost)\n",
    "        # lets update\n",
    "        w = w - learning_rate * gradients[\"derivative_weight\"]\n",
    "        b = b - learning_rate * gradients[\"derivative_bias\"]\n",
    "        if i % 10 == 0:\n",
    "            cost_list2.append(cost)\n",
    "            index.append(i)\n",
    "            print (\"Cost after iteration %i: %f\" %(i, cost))\n",
    "               \n",
    "    parameters = {\"weight\": w,\"bias\": b}\n",
    "    plt.plot(index,cost_list2)\n",
    "    plt.xticks(index,rotation='vertical')\n",
    "    plt.xlabel(\"Number of Iterarion\")\n",
    "    plt.ylabel(\"Cost\")\n",
    "    plt.show()\n",
    "    return parameters, gradients, cost_list\n",
    "            "
   ]
  },
  {
   "cell_type": "code",
   "execution_count": 29,
   "id": "14db9e32",
   "metadata": {},
   "outputs": [],
   "source": [
    "def predict(w,b,x_test):\n",
    "    # x_test is a input for forward propagation\n",
    "    z = sigmoid(np.dot(w.T,x_test)+b)\n",
    "    Y_prediction = np.zeros((1,x_test.shape[1]))\n",
    "    # if z is bigger than 0.5, our prediction is sign one (y_head=1),\n",
    "    # if z is smaller than 0.5, our prediction is sign zero (y_head=0),\n",
    "    for i in range(z.shape[1]):\n",
    "        if z[0,i]<= 0.5:\n",
    "            Y_prediction[0,i] = 0\n",
    "        else:\n",
    "            Y_prediction[0,i] = 1\n",
    "\n",
    "    return Y_prediction"
   ]
  },
  {
   "cell_type": "code",
   "execution_count": null,
   "id": "87f3c80b",
   "metadata": {},
   "outputs": [],
   "source": [
    "def logistic_regression(X_train, y_train, X_test, y_test, learning_rate ,  num_iterations):\n",
    "    # initialize\n",
    "    dimension =  X_train.shape[0]  # that is 4096\n",
    "    w,b = initialize_weights_and_bias(dimension)\n",
    "    # do not change learning rate\n",
    "    parameters, gradients, cost_list = update(w, b, X_train, y_train, learning_rate,num_iterations)\n",
    "    \n",
    "    y_prediction_test = predict(parameters[\"weight\"],parameters[\"bias\"],X_test)\n",
    "    y_prediction_train = predict(parameters[\"weight\"],parameters[\"bias\"],X_train)\n",
    "\n",
    "    # Print train/test Errors\n",
    "    print(\"train accuracy: {} %\".format(100 - np.mean(np.abs(y_prediction_train - y_train)) * 100))\n",
    "    print(\"test accuracy: {} %\".format(100 - np.mean(np.abs(y_prediction_test - y_test)) * 100))\n",
    "    \n",
    "logistic_regression(X_train, y_train, X_test, y_test, learning_rate=1, num_iterations=100)"
   ]
  },
  {
   "cell_type": "code",
   "execution_count": 43,
   "id": "c5ac890d",
   "metadata": {},
   "outputs": [
    {
     "ename": "NameError",
     "evalue": "name 'X_train' is not defined",
     "output_type": "error",
     "traceback": [
      "\u001b[1;31m---------------------------------------------------------------------------\u001b[0m",
      "\u001b[1;31mNameError\u001b[0m                                 Traceback (most recent call last)",
      "Cell \u001b[1;32mIn[43], line 3\u001b[0m\n\u001b[0;32m      1\u001b[0m \u001b[38;5;28;01mfrom\u001b[39;00m \u001b[38;5;21;01msklearn\u001b[39;00m \u001b[38;5;28;01mimport\u001b[39;00m linear_model\n\u001b[0;32m      2\u001b[0m logreg \u001b[38;5;241m=\u001b[39m linear_model\u001b[38;5;241m.\u001b[39mLogisticRegression(random_state \u001b[38;5;241m=\u001b[39m \u001b[38;5;241m42\u001b[39m,max_iter\u001b[38;5;241m=\u001b[39m \u001b[38;5;241m150\u001b[39m)\n\u001b[1;32m----> 3\u001b[0m \u001b[38;5;28mprint\u001b[39m(\u001b[38;5;124m\"\u001b[39m\u001b[38;5;124mtest accuracy: \u001b[39m\u001b[38;5;132;01m{}\u001b[39;00m\u001b[38;5;124m \u001b[39m\u001b[38;5;124m\"\u001b[39m\u001b[38;5;241m.\u001b[39mformat(logreg\u001b[38;5;241m.\u001b[39mfit(X_train\u001b[38;5;241m.\u001b[39mT, y_train\u001b[38;5;241m.\u001b[39mT)\u001b[38;5;241m.\u001b[39mscore(X_test\u001b[38;5;241m.\u001b[39mT, y_test\u001b[38;5;241m.\u001b[39mT)))\n\u001b[0;32m      4\u001b[0m \u001b[38;5;28mprint\u001b[39m(\u001b[38;5;124m\"\u001b[39m\u001b[38;5;124mtrain accuracy: \u001b[39m\u001b[38;5;132;01m{}\u001b[39;00m\u001b[38;5;124m \u001b[39m\u001b[38;5;124m\"\u001b[39m\u001b[38;5;241m.\u001b[39mformat(logreg\u001b[38;5;241m.\u001b[39mfit(X_train\u001b[38;5;241m.\u001b[39mT, y_train\u001b[38;5;241m.\u001b[39mT)\u001b[38;5;241m.\u001b[39mscore(X_train\u001b[38;5;241m.\u001b[39mT, y_train\u001b[38;5;241m.\u001b[39mT)))\n",
      "\u001b[1;31mNameError\u001b[0m: name 'X_train' is not defined"
     ]
    }
   ],
   "source": [
    "from sklearn import linear_model\n",
    "logreg = linear_model.LogisticRegression(random_state = 42,max_iter= 150)\n",
    "print(\"test accuracy: {} \".format(logreg.fit(X_train.T, y_train.T).score(X_test.T, y_test.T)))\n",
    "print(\"train accuracy: {} \".format(logreg.fit(X_train.T, y_train.T).score(X_train.T, y_train.T)))"
   ]
  },
  {
   "cell_type": "code",
   "execution_count": null,
   "id": "8c064738",
   "metadata": {},
   "outputs": [],
   "source": []
  }
 ],
 "metadata": {
  "kernelspec": {
   "display_name": "Python 3 (ipykernel)",
   "language": "python",
   "name": "python3"
  },
  "language_info": {
   "codemirror_mode": {
    "name": "ipython",
    "version": 3
   },
   "file_extension": ".py",
   "mimetype": "text/x-python",
   "name": "python",
   "nbconvert_exporter": "python",
   "pygments_lexer": "ipython3",
   "version": "3.11.5"
  }
 },
 "nbformat": 4,
 "nbformat_minor": 5
}
