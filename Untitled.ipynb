{
 "cells": [
  {
   "cell_type": "code",
   "execution_count": 2,
   "id": "5035e5b8",
   "metadata": {},
   "outputs": [
    {
     "name": "stdout",
     "output_type": "stream",
     "text": [
      "['.ipynb_checkpoints', 'data.csv', 'Untitled.ipynb']\n"
     ]
    }
   ],
   "source": [
    "import pandas as pd\n",
    "import numpy as np\n",
    "import matplotlib.pyplot as plt\n",
    "\n",
    "import os\n",
    "print(os.listdir(r\"C:\\Users\\ASUS\\Desktop\\ml\\supervised ml\\breast cancer prediction\"))"
   ]
  },
  {
   "cell_type": "code",
   "execution_count": 9,
   "id": "6be942b1",
   "metadata": {
    "scrolled": true
   },
   "outputs": [],
   "source": [
    "data =pd.read_csv(r\"C:\\Users\\ASUS\\Desktop\\ml\\supervised ml\\breast cancer prediction\\data.csv\")\n",
    "data.drop(['Unnamed: 32', \"id\"], axis=1, inplace=True)\n",
    "\n",
    "data.diagnosis=[1 if each == \"M\" else 0 for each in data.diagnosis]\n",
    "y=data.diagnosis.values\n",
    "X_data=data.drop(['diagnosis'], axis=1)"
   ]
  },
  {
   "cell_type": "code",
   "execution_count": 13,
   "id": "06fa01ed",
   "metadata": {},
   "outputs": [],
   "source": [
    "#using the normalization\n",
    "X = (X_data - np.min(X_data)) / (np.max(X_data) - np.min(X_data))\n"
   ]
  },
  {
   "cell_type": "code",
   "execution_count": 19,
   "id": "c5e02238",
   "metadata": {},
   "outputs": [
    {
     "name": "stdout",
     "output_type": "stream",
     "text": [
      "X train: (30, 483)\n",
      "X test: (30, 86)\n",
      "y train: (483,)\n",
      "y test: (86,)\n"
     ]
    }
   ],
   "source": [
    "#train test and split the data\n",
    "from sklearn.model_selection import train_test_split\n",
    "\n",
    "X_train, X_test,  y_train, y_test = train_test_split(X, y, test_size=0.15)\n",
    "X_train =X_train.T\n",
    "X_test = X_test.T\n",
    "y_train = y_train.T\n",
    "y_test = y_test.T\n",
    "\n",
    "\n",
    "print(\"X train:\",X_train.shape)\n",
    "print(\"X test:\",X_test.shape)\n",
    "print(\"y train:\",y_train.shape)\n",
    "print(\"y test:\",y_test.shape)\n",
    "\n"
   ]
  },
  {
   "cell_type": "code",
   "execution_count": 20,
   "id": "f85b3ba0",
   "metadata": {},
   "outputs": [],
   "source": [
    "# initiliaze a parameters\n",
    "def initaialize_weights_and_bias(dimesnisons):\n",
    "    w=np.full((dimensions,1),0.01)\n",
    "    b=0.0\n",
    "    return w,b\n"
   ]
  },
  {
   "cell_type": "code",
   "execution_count": 21,
   "id": "b9513a7d",
   "metadata": {},
   "outputs": [],
   "source": [
    "def sigmoid(z):\n",
    "    y_head = 1 /(1+np.exe(-z))\n",
    "    return y_head\n"
   ]
  },
  {
   "cell_type": "code",
   "execution_count": null,
   "id": "e0cf6abd",
   "metadata": {},
   "outputs": [],
   "source": []
  }
 ],
 "metadata": {
  "kernelspec": {
   "display_name": "Python 3 (ipykernel)",
   "language": "python",
   "name": "python3"
  },
  "language_info": {
   "codemirror_mode": {
    "name": "ipython",
    "version": 3
   },
   "file_extension": ".py",
   "mimetype": "text/x-python",
   "name": "python",
   "nbconvert_exporter": "python",
   "pygments_lexer": "ipython3",
   "version": "3.11.5"
  }
 },
 "nbformat": 4,
 "nbformat_minor": 5
}
